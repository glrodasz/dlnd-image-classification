{
 "cells": [
  {
   "cell_type": "markdown",
   "metadata": {
    "collapsed": true,
    "deletable": true,
    "editable": true
   },
   "source": [
    "# Image Classification\n",
    "In this project, you'll classify images from the [CIFAR-10 dataset](https://www.cs.toronto.edu/~kriz/cifar.html).  The dataset consists of airplanes, dogs, cats, and other objects. You'll preprocess the images, then train a convolutional neural network on all the samples. The images need to be normalized and the labels need to be one-hot encoded.  You'll get to apply what you learned and build a convolutional, max pooling, dropout, and fully connected layers.  At the end, you'll get to see your neural network's predictions on the sample images.\n",
    "## Get the Data\n",
    "Run the following cell to download the [CIFAR-10 dataset for python](https://www.cs.toronto.edu/~kriz/cifar-10-python.tar.gz)."
   ]
  },
  {
   "cell_type": "code",
   "execution_count": 1,
   "metadata": {
    "collapsed": false,
    "deletable": true,
    "editable": true
   },
   "outputs": [
    {
     "name": "stdout",
     "output_type": "stream",
     "text": [
      "All files found!\n"
     ]
    }
   ],
   "source": [
    "\"\"\"\n",
    "DON'T MODIFY ANYTHING IN THIS CELL THAT IS BELOW THIS LINE\n",
    "\"\"\"\n",
    "from urllib.request import urlretrieve\n",
    "from os.path import isfile, isdir\n",
    "from tqdm import tqdm\n",
    "import problem_unittests as tests\n",
    "import tarfile\n",
    "\n",
    "cifar10_dataset_folder_path = 'cifar-10-batches-py'\n",
    "\n",
    "class DLProgress(tqdm):\n",
    "    last_block = 0\n",
    "\n",
    "    def hook(self, block_num=1, block_size=1, total_size=None):\n",
    "        self.total = total_size\n",
    "        self.update((block_num - self.last_block) * block_size)\n",
    "        self.last_block = block_num\n",
    "\n",
    "if not isfile('cifar-10-python.tar.gz'):\n",
    "    with DLProgress(unit='B', unit_scale=True, miniters=1, desc='CIFAR-10 Dataset') as pbar:\n",
    "        urlretrieve(\n",
    "            'https://www.cs.toronto.edu/~kriz/cifar-10-python.tar.gz',\n",
    "            'cifar-10-python.tar.gz',\n",
    "            pbar.hook)\n",
    "\n",
    "if not isdir(cifar10_dataset_folder_path):\n",
    "    with tarfile.open('cifar-10-python.tar.gz') as tar:\n",
    "        tar.extractall()\n",
    "        tar.close()\n",
    "\n",
    "\n",
    "tests.test_folder_path(cifar10_dataset_folder_path)"
   ]
  },
  {
   "cell_type": "markdown",
   "metadata": {
    "deletable": true,
    "editable": true
   },
   "source": [
    "## Explore the Data\n",
    "The dataset is broken into batches to prevent your machine from running out of memory.  The CIFAR-10 dataset consists of 5 batches, named `data_batch_1`, `data_batch_2`, etc.. Each batch contains the labels and images that are one of the following:\n",
    "* airplane\n",
    "* automobile\n",
    "* bird\n",
    "* cat\n",
    "* deer\n",
    "* dog\n",
    "* frog\n",
    "* horse\n",
    "* ship\n",
    "* truck\n",
    "\n",
    "Understanding a dataset is part of making predictions on the data.  Play around with the code cell below by changing the `batch_id` and `sample_id`. The `batch_id` is the id for a batch (1-5). The `sample_id` is the id for a image and label pair in the batch.\n",
    "\n",
    "Ask yourself \"What are all possible labels?\", \"What is the range of values for the image data?\", \"Are the labels in order or random?\".  Answers to questions like these will help you preprocess the data and end up with better predictions."
   ]
  },
  {
   "cell_type": "code",
   "execution_count": 2,
   "metadata": {
    "collapsed": false,
    "deletable": true,
    "editable": true
   },
   "outputs": [
    {
     "name": "stdout",
     "output_type": "stream",
     "text": [
      "\n",
      "Stats of batch 1:\n",
      "Samples: 10000\n",
      "Label Counts: {0: 1005, 1: 974, 2: 1032, 3: 1016, 4: 999, 5: 937, 6: 1030, 7: 1001, 8: 1025, 9: 981}\n",
      "First 20 Labels: [6, 9, 9, 4, 1, 1, 2, 7, 8, 3, 4, 7, 7, 2, 9, 9, 9, 3, 2, 6]\n",
      "\n",
      "Example of Image 9999:\n",
      "Image - Min Value: 4 Max Value: 252\n",
      "Image - Shape: (32, 32, 3)\n",
      "Label - Label Id: 5 Name: dog\n"
     ]
    },
    {
     "data": {
      "image/png": "[encoded data removed]",
      "text/plain": [
       "<matplotlib.figure.Figure at 0x7fcf09d0ad30>"
      ]
     },
     "metadata": {
      "image/png": {
       "height": 250,
       "width": 253
      }
     },
     "output_type": "display_data"
    }
   ],
   "source": [
    "%matplotlib inline\n",
    "%config InlineBackend.figure_format = 'retina'\n",
    "\n",
    "import helper\n",
    "import numpy as np\n",
    "\n",
    "# Explore the dataset\n",
    "batch_id = 1\n",
    "sample_id = 9999\n",
    "helper.display_stats(cifar10_dataset_folder_path, batch_id, sample_id)"
   ]
  },
  {
   "cell_type": "markdown",
   "metadata": {
    "deletable": true,
    "editable": true
   },
   "source": [
    "## Implement Preprocess Functions\n",
    "### Normalize\n",
    "In the cell below, implement the `normalize` function to take in image data, `x`, and return it as a normalized Numpy array. The values should be in the range of 0 to 1, inclusive.  The return object should be the same shape as `x`."
   ]
  },
  {
   "cell_type": "code",
   "execution_count": 3,
   "metadata": {
    "collapsed": false,
    "deletable": true,
    "editable": true
   },
   "outputs": [
    {
     "name": "stdout",
     "output_type": "stream",
     "text": [
      "Tests Passed\n"
     ]
    }
   ],
   "source": [
    "def normalize(x):\n",
    "    \"\"\"\n",
    "    Normalize a list of sample image data in the range of 0 to 1\n",
    "    : x: List of image data.  The image shape is (32, 32, 3)\n",
    "    : return: Numpy array of normalize data\n",
    "    \"\"\"\n",
    "    return x / np.max(x)\n",
    "\n",
    "\n",
    "\"\"\"\n",
    "DON'T MODIFY ANYTHING IN THIS CELL THAT IS BELOW THIS LINE\n",
    "\"\"\"\n",
    "tests.test_normalize(normalize)"
   ]
  },
  {
   "cell_type": "markdown",
   "metadata": {
    "deletable": true,
    "editable": true
   },
   "source": [
    "### One-hot encode\n",
    "Just like the previous code cell, you'll be implementing a function for preprocessing.  This time, you'll implement the `one_hot_encode` function. The input, `x`, are a list of labels.  Implement the function to return the list of labels as One-Hot encoded Numpy array.  The possible values for labels are 0 to 9. The one-hot encoding function should return the same encoding for each value between each call to `one_hot_encode`.  Make sure to save the map of encodings outside the function.\n",
    "\n",
    "Hint: Don't reinvent the wheel."
   ]
  },
  {
   "cell_type": "code",
   "execution_count": 5,
   "metadata": {
    "collapsed": false,
    "deletable": true,
    "editable": true
   },
   "outputs": [
    {
     "name": "stdout",
     "output_type": "stream",
     "text": [
      "Tests Passed\n"
     ]
    }
   ],
   "source": [
    "from sklearn import preprocessing\n",
    "\n",
    "def one_hot_encode(x):\n",
    "    \"\"\"\n",
    "    One hot encode a list of sample labels. Return a one-hot encoded vector for each label.\n",
    "    : x: List of sample Labels\n",
    "    : return: Numpy array of one-hot encoded labels\n",
    "    \"\"\"\n",
    "    lb = preprocessing.LabelBinarizer(neg_label=0, pos_label=1, sparse_output=False)    \n",
    "    lb.fit([0, 1, 2, 3, 4, 5, 6, 7, 8, 9])\n",
    "\n",
    "    return lb.transform(x)\n",
    "\n",
    "\n",
    "\"\"\"\n",
    "DON'T MODIFY ANYTHING IN THIS CELL THAT IS BELOW THIS LINE\n",
    "\"\"\"\n",
    "tests.test_one_hot_encode(one_hot_encode)"
   ]
  },
  {
   "cell_type": "markdown",
   "metadata": {
    "deletable": true,
    "editable": true
   },
   "source": [
    "### Randomize Data\n",
    "As you saw from exploring the data above, the order of the samples are randomized.  It doesn't hurt to randomize it again, but you don't need to for this dataset."
   ]
  },
  {
   "cell_type": "markdown",
   "metadata": {
    "deletable": true,
    "editable": true
   },
   "source": [
    "## Preprocess all the data and save it\n",
    "Running the code cell below will preprocess all the CIFAR-10 data and save it to file. The code below also uses 10% of the training data for validation."
   ]
  },
  {
   "cell_type": "code",
   "execution_count": 6,
   "metadata": {
    "collapsed": false,
    "deletable": true,
    "editable": true
   },
   "outputs": [],
   "source": [
    "\"\"\"\n",
    "DON'T MODIFY ANYTHING IN THIS CELL\n",
    "\"\"\"\n",
    "# Preprocess Training, Validation, and Testing Data\n",
    "helper.preprocess_and_save_data(cifar10_dataset_folder_path, normalize, one_hot_encode)"
   ]
  },
  {
   "cell_type": "markdown",
   "metadata": {
    "deletable": true,
    "editable": true
   },
   "source": [
    "# Check Point\n",
    "This is your first checkpoint.  If you ever decide to come back to this notebook or have to restart the notebook, you can start from here.  The preprocessed data has been saved to disk."
   ]
  },
  {
   "cell_type": "code",
   "execution_count": 7,
   "metadata": {
    "collapsed": true,
    "deletable": true,
    "editable": true
   },
   "outputs": [],
   "source": [
    "\"\"\"\n",
    "DON'T MODIFY ANYTHING IN THIS CELL\n",
    "\"\"\"\n",
    "import pickle\n",
    "import problem_unittests as tests\n",
    "import helper\n",
    "\n",
    "# Load the Preprocessed Validation data\n",
    "valid_features, valid_labels = pickle.load(open('preprocess_validation.p', mode='rb'))"
   ]
  },
  {
   "cell_type": "markdown",
   "metadata": {
    "deletable": true,
    "editable": true
   },
   "source": [
    "## Build the network\n",
    "For the neural network, you'll build each layer into a function.  Most of the code you've seen has been outside of functions. To test your code more thoroughly, we require that you put each layer in a function.  This allows us to give you better feedback and test for simple mistakes using our unittests before you submit your project.\n",
    "\n",
    ">**Note:** If you're finding it hard to dedicate enough time for this course each week, we've provided a small shortcut to this part of the project. In the next couple of problems, you'll have the option to use classes from the [TensorFlow Layers](https://www.tensorflow.org/api_docs/python/tf/layers) or [TensorFlow Layers (contrib)](https://www.tensorflow.org/api_guides/python/contrib.layers) packages to build each layer, except the layers you build in the \"Convolutional and Max Pooling Layer\" section.  TF Layers is similar to Keras's and TFLearn's abstraction to layers, so it's easy to pickup.\n",
    "\n",
    ">However, if you would like to get the most out of this course, try to solve all the problems _without_ using anything from the TF Layers packages. You **can** still use classes from other packages that happen to have the same name as ones you find in TF Layers! For example, instead of using the TF Layers version of the `conv2d` class, [tf.layers.conv2d](https://www.tensorflow.org/api_docs/python/tf/layers/conv2d), you would want to use the TF Neural Network version of `conv2d`, [tf.nn.conv2d](https://www.tensorflow.org/api_docs/python/tf/nn/conv2d). \n",
    "\n",
    "Let's begin!\n",
    "\n",
    "### Input\n",
    "The neural network needs to read the image data, one-hot encoded labels, and dropout keep probability. Implement the following functions\n",
    "* Implement `neural_net_image_input`\n",
    " * Return a [TF Placeholder](https://www.tensorflow.org/api_docs/python/tf/placeholder)\n",
    " * Set the shape using `image_shape` with batch size set to `None`.\n",
    " * Name the TensorFlow placeholder \"x\" using the TensorFlow `name` parameter in the [TF Placeholder](https://www.tensorflow.org/api_docs/python/tf/placeholder).\n",
    "* Implement `neural_net_label_input`\n",
    " * Return a [TF Placeholder](https://www.tensorflow.org/api_docs/python/tf/placeholder)\n",
    " * Set the shape using `n_classes` with batch size set to `None`.\n",
    " * Name the TensorFlow placeholder \"y\" using the TensorFlow `name` parameter in the [TF Placeholder](https://www.tensorflow.org/api_docs/python/tf/placeholder).\n",
    "* Implement `neural_net_keep_prob_input`\n",
    " * Return a [TF Placeholder](https://www.tensorflow.org/api_docs/python/tf/placeholder) for dropout keep probability.\n",
    " * Name the TensorFlow placeholder \"keep_prob\" using the TensorFlow `name` parameter in the [TF Placeholder](https://www.tensorflow.org/api_docs/python/tf/placeholder).\n",
    "\n",
    "These names will be used at the end of the project to load your saved model.\n",
    "\n",
    "Note: `None` for shapes in TensorFlow allow for a dynamic size."
   ]
  },
  {
   "cell_type": "code",
   "execution_count": 8,
   "metadata": {
    "collapsed": false,
    "deletable": true,
    "editable": true
   },
   "outputs": [
    {
     "name": "stdout",
     "output_type": "stream",
     "text": [
      "Image Input Tests Passed.\n",
      "Label Input Tests Passed.\n",
      "Keep Prob Tests Passed.\n"
     ]
    }
   ],
   "source": [
    "import tensorflow as tf\n",
    "\n",
    "def neural_net_image_input(image_shape):\n",
    "    \"\"\"\n",
    "    Return a Tensor for a bach of image input\n",
    "    : image_shape: Shape of the images\n",
    "    : return: Tensor for image input.\n",
    "    \"\"\"\n",
    "    height, width, depth = image_shape\n",
    "    return tf.placeholder(tf.float32, shape=(None, height, width, depth), name='x')\n",
    "\n",
    "\n",
    "def neural_net_label_input(n_classes):\n",
    "    \"\"\"\n",
    "    Return a Tensor for a batch of label input\n",
    "    : n_classes: Number of classes\n",
    "    : return: Tensor for label input.\n",
    "    \"\"\"\n",
    "    return tf.placeholder(tf.float32, shape=(None, n_classes), name='y')\n",
    "\n",
    "\n",
    "def neural_net_keep_prob_input():\n",
    "    \"\"\"\n",
    "    Return a Tensor for keep probability\n",
    "    : return: Tensor for keep probability.\n",
    "    \"\"\"\n",
    "    return tf.placeholder(tf.float32, name='keep_prob')\n",
    "\n",
    "\n",
    "\"\"\"\n",
    "DON'T MODIFY ANYTHING IN THIS CELL THAT IS BELOW THIS LINE\n",
    "\"\"\"\n",
    "tf.reset_default_graph()\n",
    "tests.test_nn_image_inputs(neural_net_image_input)\n",
    "tests.test_nn_label_inputs(neural_net_label_input)\n",
    "tests.test_nn_keep_prob_inputs(neural_net_keep_prob_input)"
   ]
  },
  {
   "cell_type": "markdown",
   "metadata": {
    "deletable": true,
    "editable": true
   },
   "source": [
    "### Convolution and Max Pooling Layer\n",
    "Convolution layers have a lot of success with images. For this code cell, you should implement the function `conv2d_maxpool` to apply convolution then max pooling:\n",
    "* Create the weight and bias using `conv_ksize`, `conv_num_outputs` and the shape of `x_tensor`.\n",
    "* Apply a convolution to `x_tensor` using weight and `conv_strides`.\n",
    " * We recommend you use same padding, but you're welcome to use any padding.\n",
    "* Add bias\n",
    "* Add a nonlinear activation to the convolution.\n",
    "* Apply Max Pooling using `pool_ksize` and `pool_strides`.\n",
    " * We recommend you use same padding, but you're welcome to use any padding.\n",
    "\n",
    "**Note:** You **can't** use [TensorFlow Layers](https://www.tensorflow.org/api_docs/python/tf/layers) or [TensorFlow Layers (contrib)](https://www.tensorflow.org/api_guides/python/contrib.layers) for **this** layer, but you can still use TensorFlow's [Neural Network](https://www.tensorflow.org/api_docs/python/tf/nn) package. You may still use the shortcut option for all the **other** layers."
   ]
  },
  {
   "cell_type": "code",
   "execution_count": 9,
   "metadata": {
    "collapsed": false,
    "deletable": true,
    "editable": true
   },
   "outputs": [
    {
     "name": "stdout",
     "output_type": "stream",
     "text": [
      "Tests Passed\n"
     ]
    }
   ],
   "source": [
    "def conv2d_maxpool(x_tensor, conv_num_outputs, conv_ksize, conv_strides, pool_ksize, pool_strides):\n",
    "    \"\"\"\n",
    "    Apply convolution then max pooling to x_tensor\n",
    "    :param x_tensor: TensorFlow Tensor\n",
    "    :param conv_num_outputs: Number of outputs for the convolutional layer\n",
    "    :param conv_ksize: kernal size 2-D Tuple for the convolutional layer\n",
    "    :param conv_strides: Stride 2-D Tuple for convolution\n",
    "    :param pool_ksize: kernal size 2-D Tuple for pool\n",
    "    :param pool_strides: Stride 2-D Tuple for pool\n",
    "    : return: A tensor that represents convolution and max pooling of x_tensor\n",
    "    \"\"\"\n",
    "    input_depth = x_tensor.get_shape()[3].value\n",
    "    image_height, image_width = conv_ksize\n",
    "    \n",
    "    weight = tf.Variable(tf.truncated_normal((image_height, image_width, input_depth, conv_num_outputs)))\n",
    "    bias = tf.Variable(tf.zeros(conv_num_outputs))\n",
    "    \n",
    "    c_height, c_width = conv_strides\n",
    "\n",
    "    conv_layer = tf.nn.conv2d(x_tensor, weight, strides=[1, c_height, c_width, 1], padding='SAME')\n",
    "    conv_layer = tf.nn.bias_add(conv_layer, bias)\n",
    "    conv_layer = tf.nn.relu(conv_layer)\n",
    "    \n",
    "    k_height, k_width = pool_ksize\n",
    "    p_height, p_width = pool_strides\n",
    "\n",
    "    \n",
    "    conv_layer = tf.nn.max_pool(conv_layer, ksize=[1, k_height, k_width, 1], strides=[1, p_height, p_width, 1], padding='SAME')\n",
    "    \n",
    "    return conv_layer \n",
    "\n",
    "\n",
    "\"\"\"\n",
    "DON'T MODIFY ANYTHING IN THIS CELL THAT IS BELOW THIS LINE\n",
    "\"\"\"\n",
    "tests.test_con_pool(conv2d_maxpool)"
   ]
  },
  {
   "cell_type": "markdown",
   "metadata": {
    "deletable": true,
    "editable": true
   },
   "source": [
    "### Flatten Layer\n",
    "Implement the `flatten` function to change the dimension of `x_tensor` from a 4-D tensor to a 2-D tensor.  The output should be the shape (*Batch Size*, *Flattened Image Size*). Shortcut option: you can use classes from the [TensorFlow Layers](https://www.tensorflow.org/api_docs/python/tf/layers) or [TensorFlow Layers (contrib)](https://www.tensorflow.org/api_guides/python/contrib.layers) packages for this layer. For more of a challenge, only use other TensorFlow packages."
   ]
  },
  {
   "cell_type": "code",
   "execution_count": 10,
   "metadata": {
    "collapsed": false,
    "deletable": true,
    "editable": true
   },
   "outputs": [
    {
     "name": "stdout",
     "output_type": "stream",
     "text": [
      "Tests Passed\n"
     ]
    }
   ],
   "source": [
    "def flatten(x_tensor):\n",
    "    \"\"\"\n",
    "    Flatten x_tensor to (Batch Size, Flattened Image Size)\n",
    "    : x_tensor: A tensor of size (Batch Size, ...), where ... are the image dimensions.\n",
    "    : return: A tensor of size (Batch Size, Flattened Image Size).\n",
    "    \"\"\"\n",
    "    return tf.contrib.layers.flatten(x_tensor)\n",
    "\n",
    "\n",
    "\"\"\"\n",
    "DON'T MODIFY ANYTHING IN THIS CELL THAT IS BELOW THIS LINE\n",
    "\"\"\"\n",
    "tests.test_flatten(flatten)"
   ]
  },
  {
   "cell_type": "markdown",
   "metadata": {
    "deletable": true,
    "editable": true
   },
   "source": [
    "### Fully-Connected Layer\n",
    "Implement the `fully_conn` function to apply a fully connected layer to `x_tensor` with the shape (*Batch Size*, *num_outputs*). Shortcut option: you can use classes from the [TensorFlow Layers](https://www.tensorflow.org/api_docs/python/tf/layers) or [TensorFlow Layers (contrib)](https://www.tensorflow.org/api_guides/python/contrib.layers) packages for this layer. For more of a challenge, only use other TensorFlow packages."
   ]
  },
  {
   "cell_type": "code",
   "execution_count": 11,
   "metadata": {
    "collapsed": false,
    "deletable": true,
    "editable": true
   },
   "outputs": [
    {
     "name": "stdout",
     "output_type": "stream",
     "text": [
      "Tests Passed\n"
     ]
    }
   ],
   "source": [
    "def fully_conn(x_tensor, num_outputs):\n",
    "    \"\"\"\n",
    "    Apply a fully connected layer to x_tensor using weight and bias\n",
    "    : x_tensor: A 2-D tensor where the first dimension is batch size.\n",
    "    : num_outputs: The number of output that the new tensor should be.\n",
    "    : return: A 2-D tensor where the second dimension is num_outputs.\n",
    "    \"\"\"\n",
    "    return tf.contrib.layers.fully_connected(x_tensor, num_outputs)\n",
    "\n",
    "\n",
    "\"\"\"\n",
    "DON'T MODIFY ANYTHING IN THIS CELL THAT IS BELOW THIS LINE\n",
    "\"\"\"\n",
    "tests.test_fully_conn(fully_conn)"
   ]
  },
  {
   "cell_type": "markdown",
   "metadata": {
    "deletable": true,
    "editable": true
   },
   "source": [
    "### Output Layer\n",
    "Implement the `output` function to apply a fully connected layer to `x_tensor` with the shape (*Batch Size*, *num_outputs*). Shortcut option: you can use classes from the [TensorFlow Layers](https://www.tensorflow.org/api_docs/python/tf/layers) or [TensorFlow Layers (contrib)](https://www.tensorflow.org/api_guides/python/contrib.layers) packages for this layer. For more of a challenge, only use other TensorFlow packages.\n",
    "\n",
    "**Note:** Activation, softmax, or cross entropy should **not** be applied to this."
   ]
  },
  {
   "cell_type": "code",
   "execution_count": 12,
   "metadata": {
    "collapsed": false,
    "deletable": true,
    "editable": true
   },
   "outputs": [
    {
     "name": "stdout",
     "output_type": "stream",
     "text": [
      "Tests Passed\n"
     ]
    }
   ],
   "source": [
    "def output(x_tensor, num_outputs):\n",
    "    \"\"\"\n",
    "    Apply a output layer to x_tensor using weight and bias\n",
    "    : x_tensor: A 2-D tensor where the first dimension is batch size.\n",
    "    : num_outputs: The number of output that the new tensor should be.\n",
    "    : return: A 2-D tensor where the second dimension is num_outputs.\n",
    "    \"\"\"\n",
    "    return tf.layers.dense(inputs=x_tensor, units=num_outputs, activation=None)\n",
    "\n",
    "\n",
    "\"\"\"\n",
    "DON'T MODIFY ANYTHING IN THIS CELL THAT IS BELOW THIS LINE\n",
    "\"\"\"\n",
    "tests.test_output(output)"
   ]
  },
  {
   "cell_type": "markdown",
   "metadata": {
    "deletable": true,
    "editable": true
   },
   "source": [
    "### Create Convolutional Model\n",
    "Implement the function `conv_net` to create a convolutional neural network model. The function takes in a batch of images, `x`, and outputs logits.  Use the layers you created above to create this model:\n",
    "\n",
    "* Apply 1, 2, or 3 Convolution and Max Pool layers\n",
    "* Apply a Flatten Layer\n",
    "* Apply 1, 2, or 3 Fully Connected Layers\n",
    "* Apply an Output Layer\n",
    "* Return the output\n",
    "* Apply [TensorFlow's Dropout](https://www.tensorflow.org/api_docs/python/tf/nn/dropout) to one or more layers in the model using `keep_prob`. "
   ]
  },
  {
   "cell_type": "code",
   "execution_count": 76,
   "metadata": {
    "collapsed": false,
    "deletable": true,
    "editable": true
   },
   "outputs": [
    {
     "name": "stdout",
     "output_type": "stream",
     "text": [
      "Neural Network Built!\n"
     ]
    }
   ],
   "source": [
    "def conv_net(x, keep_prob):\n",
    "    \"\"\"\n",
    "    Create a convolutional neural network model\n",
    "    : x: Placeholder tensor that holds image data.\n",
    "    : keep_prob: Placeholder tensor that hold dropout keep probability.\n",
    "    : return: Tensor that represents logits\n",
    "    \"\"\"\n",
    "    # conv2d_maxpool(x_tensor, conv_num_outputs, conv_ksize, conv_strides, pool_ksize, pool_strides)\n",
    "    \n",
    "    x = conv2d_maxpool(x, 32, (3, 3), (1, 1), (2, 2), (2, 2))\n",
    "    x = conv2d_maxpool(x, 64, (2, 2), (1, 1), (2, 2), (2, 2))\n",
    "    \n",
    "    x = flatten(x)\n",
    "    \n",
    "    x = fully_conn(x, 256)\n",
    "    tf.nn.dropout(x, keep_prob)\n",
    " \n",
    "    return output(x, 10)\n",
    "\n",
    "\n",
    "\"\"\"\n",
    "DON'T MODIFY ANYTHING IN THIS CELL THAT IS BELOW THIS LINE\n",
    "\"\"\"\n",
    "\n",
    "##############################\n",
    "## Build the Neural Network ##\n",
    "##############################\n",
    "\n",
    "# Remove previous weights, bias, inputs, etc..\n",
    "tf.reset_default_graph()\n",
    "\n",
    "# Inputs\n",
    "x = neural_net_image_input((32, 32, 3))\n",
    "y = neural_net_label_input(10)\n",
    "keep_prob = neural_net_keep_prob_input()\n",
    "\n",
    "# Model\n",
    "logits = conv_net(x, keep_prob)\n",
    "\n",
    "# Name logits Tensor, so that is can be loaded from disk after training\n",
    "logits = tf.identity(logits, name='logits')\n",
    "\n",
    "# Loss and Optimizer\n",
    "cost = tf.reduce_mean(tf.nn.softmax_cross_entropy_with_logits(logits=logits, labels=y))\n",
    "optimizer = tf.train.AdamOptimizer().minimize(cost)\n",
    "\n",
    "# Accuracy\n",
    "correct_pred = tf.equal(tf.argmax(logits, 1), tf.argmax(y, 1))\n",
    "accuracy = tf.reduce_mean(tf.cast(correct_pred, tf.float32), name='accuracy')\n",
    "\n",
    "tests.test_conv_net(conv_net)"
   ]
  },
  {
   "cell_type": "markdown",
   "metadata": {
    "deletable": true,
    "editable": true
   },
   "source": [
    "## Train the Neural Network\n",
    "### Single Optimization\n",
    "Implement the function `train_neural_network` to do a single optimization.  The optimization should use `optimizer` to optimize in `session` with a `feed_dict` of the following:\n",
    "* `x` for image input\n",
    "* `y` for labels\n",
    "* `keep_prob` for keep probability for dropout\n",
    "\n",
    "This function will be called for each batch, so `tf.global_variables_initializer()` has already been called.\n",
    "\n",
    "Note: Nothing needs to be returned. This function is only optimizing the neural network."
   ]
  },
  {
   "cell_type": "code",
   "execution_count": 14,
   "metadata": {
    "collapsed": false,
    "deletable": true,
    "editable": true
   },
   "outputs": [
    {
     "name": "stdout",
     "output_type": "stream",
     "text": [
      "Tests Passed\n"
     ]
    }
   ],
   "source": [
    "def train_neural_network(session, optimizer, keep_probability, feature_batch, label_batch):\n",
    "    \"\"\"\n",
    "    Optimize the session on a batch of images and labels\n",
    "    : session: Current TensorFlow session\n",
    "    : optimizer: TensorFlow optimizer function\n",
    "    : keep_probability: keep probability\n",
    "    : feature_batch: Batch of Numpy image data\n",
    "    : label_batch: Batch of Numpy label data\n",
    "    \"\"\"\n",
    "    session.run(optimizer, feed_dict={x: feature_batch, y: label_batch, keep_prob: keep_probability})\n",
    "\n",
    "\n",
    "\"\"\"\n",
    "DON'T MODIFY ANYTHING IN THIS CELL THAT IS BELOW THIS LINE\n",
    "\"\"\"\n",
    "tests.test_train_nn(train_neural_network)"
   ]
  },
  {
   "cell_type": "markdown",
   "metadata": {
    "deletable": true,
    "editable": true
   },
   "source": [
    "### Show Stats\n",
    "Implement the function `print_stats` to print loss and validation accuracy.  Use the global variables `valid_features` and `valid_labels` to calculate validation accuracy.  Use a keep probability of `1.0` to calculate the loss and validation accuracy."
   ]
  },
  {
   "cell_type": "code",
   "execution_count": 15,
   "metadata": {
    "collapsed": false,
    "deletable": true,
    "editable": true
   },
   "outputs": [],
   "source": [
    "def print_stats(session, feature_batch, label_batch, cost, accuracy):\n",
    "    \"\"\"\n",
    "    Print information about loss and validation accuracy\n",
    "    : session: Current TensorFlow session\n",
    "    : feature_batch: Batch of Numpy image data\n",
    "    : label_batch: Batch of Numpy label data\n",
    "    : cost: TensorFlow cost function\n",
    "    : accuracy: TensorFlow accuracy function\n",
    "    \"\"\"\n",
    "    loss = sess.run(cost, feed_dict={ x: feature_batch, y: label_batch, keep_prob: 1.})\n",
    "    valid_acc = sess.run(accuracy, feed_dict={ x: valid_features, y: valid_labels, keep_prob: 1.})\n",
    "\n",
    "    print('| Loss: {:>10.4f} | Validation Accuracy: {:.6f}'.format(loss, valid_acc))"
   ]
  },
  {
   "cell_type": "markdown",
   "metadata": {
    "deletable": true,
    "editable": true
   },
   "source": [
    "### Hyperparameters\n",
    "Tune the following parameters:\n",
    "* Set `epochs` to the number of iterations until the network stops learning or start overfitting\n",
    "* Set `batch_size` to the highest number that your machine has memory for.  Most people set them to common sizes of memory:\n",
    " * 64\n",
    " * 128\n",
    " * 256\n",
    " * ...\n",
    "* Set `keep_probability` to the probability of keeping a node using dropout"
   ]
  },
  {
   "cell_type": "code",
   "execution_count": 83,
   "metadata": {
    "collapsed": true,
    "deletable": true,
    "editable": true
   },
   "outputs": [],
   "source": [
    "epochs = 50\n",
    "batch_size = 128\n",
    "keep_probability = 0.75"
   ]
  },
  {
   "cell_type": "markdown",
   "metadata": {
    "deletable": true,
    "editable": true
   },
   "source": [
    "### Train on a Single CIFAR-10 Batch\n",
    "Instead of training the neural network on all the CIFAR-10 batches of data, let's use a single batch. This should save time while you iterate on the model to get a better accuracy.  Once the final validation accuracy is 50% or greater, run the model on all the data in the next section."
   ]
  },
  {
   "cell_type": "code",
   "execution_count": 84,
   "metadata": {
    "collapsed": false,
    "deletable": true,
    "editable": true
   },
   "outputs": [
    {
     "name": "stdout",
     "output_type": "stream",
     "text": [
      "Checking the Training on a Single Batch...\n",
      "Epoch  1, CIFAR-10 Batch 1:  | Loss:     3.1179 | Validation Accuracy: 0.262400\n",
      "Epoch  2, CIFAR-10 Batch 1:  | Loss:     2.3563 | Validation Accuracy: 0.326400\n",
      "Epoch  3, CIFAR-10 Batch 1:  | Loss:     1.9465 | Validation Accuracy: 0.383000\n",
      "Epoch  4, CIFAR-10 Batch 1:  | Loss:     1.6848 | Validation Accuracy: 0.406400\n",
      "Epoch  5, CIFAR-10 Batch 1:  | Loss:     1.4686 | Validation Accuracy: 0.439200\n",
      "Epoch  6, CIFAR-10 Batch 1:  | Loss:     1.3702 | Validation Accuracy: 0.448400\n",
      "Epoch  7, CIFAR-10 Batch 1:  | Loss:     1.2861 | Validation Accuracy: 0.434000\n",
      "Epoch  8, CIFAR-10 Batch 1:  | Loss:     1.1580 | Validation Accuracy: 0.439600\n",
      "Epoch  9, CIFAR-10 Batch 1:  | Loss:     1.0929 | Validation Accuracy: 0.432400\n",
      "Epoch 10, CIFAR-10 Batch 1:  | Loss:     1.1559 | Validation Accuracy: 0.422600\n",
      "Epoch 11, CIFAR-10 Batch 1:  | Loss:     0.8595 | Validation Accuracy: 0.478000\n",
      "Epoch 12, CIFAR-10 Batch 1:  | Loss:     0.7544 | Validation Accuracy: 0.488200\n",
      "Epoch 13, CIFAR-10 Batch 1:  | Loss:     0.6855 | Validation Accuracy: 0.475000\n",
      "Epoch 14, CIFAR-10 Batch 1:  | Loss:     0.6834 | Validation Accuracy: 0.452000\n",
      "Epoch 15, CIFAR-10 Batch 1:  | Loss:     0.6448 | Validation Accuracy: 0.460400\n",
      "Epoch 16, CIFAR-10 Batch 1:  | Loss:     0.5799 | Validation Accuracy: 0.487000\n",
      "Epoch 17, CIFAR-10 Batch 1:  | Loss:     0.5465 | Validation Accuracy: 0.500000\n",
      "Epoch 18, CIFAR-10 Batch 1:  | Loss:     0.5474 | Validation Accuracy: 0.490000\n",
      "Epoch 19, CIFAR-10 Batch 1:  | Loss:     0.4543 | Validation Accuracy: 0.515600\n",
      "Epoch 20, CIFAR-10 Batch 1:  | Loss:     0.4345 | Validation Accuracy: 0.507600\n",
      "Epoch 21, CIFAR-10 Batch 1:  | Loss:     0.5392 | Validation Accuracy: 0.446400\n",
      "Epoch 22, CIFAR-10 Batch 1:  | Loss:     0.4582 | Validation Accuracy: 0.461200\n",
      "Epoch 23, CIFAR-10 Batch 1:  | Loss:     0.3806 | Validation Accuracy: 0.519200\n",
      "Epoch 24, CIFAR-10 Batch 1:  | Loss:     0.3453 | Validation Accuracy: 0.526400\n",
      "Epoch 25, CIFAR-10 Batch 1:  | Loss:     0.4616 | Validation Accuracy: 0.483200\n",
      "Epoch 26, CIFAR-10 Batch 1:  | Loss:     0.3410 | Validation Accuracy: 0.509600\n",
      "Epoch 27, CIFAR-10 Batch 1:  | Loss:     0.2835 | Validation Accuracy: 0.523800\n",
      "Epoch 28, CIFAR-10 Batch 1:  | Loss:     0.2737 | Validation Accuracy: 0.504200\n",
      "Epoch 29, CIFAR-10 Batch 1:  | Loss:     0.2631 | Validation Accuracy: 0.506400\n",
      "Epoch 30, CIFAR-10 Batch 1:  | Loss:     0.2453 | Validation Accuracy: 0.498600\n",
      "Epoch 31, CIFAR-10 Batch 1:  | Loss:     0.2164 | Validation Accuracy: 0.490200\n",
      "Epoch 32, CIFAR-10 Batch 1:  | Loss:     0.1876 | Validation Accuracy: 0.495400\n",
      "Epoch 33, CIFAR-10 Batch 1:  | Loss:     0.1660 | Validation Accuracy: 0.501600\n",
      "Epoch 34, CIFAR-10 Batch 1:  | Loss:     0.1464 | Validation Accuracy: 0.512000\n",
      "Epoch 35, CIFAR-10 Batch 1:  | Loss:     0.1525 | Validation Accuracy: 0.514600\n",
      "Epoch 36, CIFAR-10 Batch 1:  | Loss:     0.2388 | Validation Accuracy: 0.506000\n",
      "Epoch 37, CIFAR-10 Batch 1:  | Loss:     0.2291 | Validation Accuracy: 0.503000\n",
      "Epoch 38, CIFAR-10 Batch 1:  | Loss:     0.1887 | Validation Accuracy: 0.511200\n",
      "Epoch 39, CIFAR-10 Batch 1:  | Loss:     0.1847 | Validation Accuracy: 0.519600\n",
      "Epoch 40, CIFAR-10 Batch 1:  | Loss:     0.1576 | Validation Accuracy: 0.523000\n",
      "Epoch 41, CIFAR-10 Batch 1:  | Loss:     0.1613 | Validation Accuracy: 0.532200\n",
      "Epoch 42, CIFAR-10 Batch 1:  | Loss:     0.1757 | Validation Accuracy: 0.525800\n",
      "Epoch 43, CIFAR-10 Batch 1:  | Loss:     0.1748 | Validation Accuracy: 0.525600\n",
      "Epoch 44, CIFAR-10 Batch 1:  | Loss:     0.1619 | Validation Accuracy: 0.523200\n",
      "Epoch 45, CIFAR-10 Batch 1:  | Loss:     0.1582 | Validation Accuracy: 0.513400\n",
      "Epoch 46, CIFAR-10 Batch 1:  | Loss:     0.1331 | Validation Accuracy: 0.506000\n",
      "Epoch 47, CIFAR-10 Batch 1:  | Loss:     0.1067 | Validation Accuracy: 0.505800\n",
      "Epoch 48, CIFAR-10 Batch 1:  | Loss:     0.0929 | Validation Accuracy: 0.511800\n",
      "Epoch 49, CIFAR-10 Batch 1:  | Loss:     0.0865 | Validation Accuracy: 0.512600\n",
      "Epoch 50, CIFAR-10 Batch 1:  | Loss:     0.0743 | Validation Accuracy: 0.516400\n"
     ]
    }
   ],
   "source": [
    "\"\"\"\n",
    "DON'T MODIFY ANYTHING IN THIS CELL\n",
    "\"\"\"\n",
    "print('Checking the Training on a Single Batch...')\n",
    "with tf.Session() as sess:\n",
    "    # Initializing the variables\n",
    "    sess.run(tf.global_variables_initializer())\n",
    "    \n",
    "    # Training cycle\n",
    "    for epoch in range(epochs):\n",
    "        batch_i = 1\n",
    "        for batch_features, batch_labels in helper.load_preprocess_training_batch(batch_i, batch_size):\n",
    "            train_neural_network(sess, optimizer, keep_probability, batch_features, batch_labels)\n",
    "        print('Epoch {:>2}, CIFAR-10 Batch {}:  '.format(epoch + 1, batch_i), end='')\n",
    "        print_stats(sess, batch_features, batch_labels, cost, accuracy)"
   ]
  },
  {
   "cell_type": "markdown",
   "metadata": {
    "deletable": true,
    "editable": true
   },
   "source": [
    "### Fully Train the Model\n",
    "Now that you got a good accuracy with a single CIFAR-10 batch, try it with all five batches."
   ]
  },
  {
   "cell_type": "code",
   "execution_count": 85,
   "metadata": {
    "collapsed": false,
    "deletable": true,
    "editable": true
   },
   "outputs": [
    {
     "name": "stdout",
     "output_type": "stream",
     "text": [
      "Training...\n",
      "Epoch  1, CIFAR-10 Batch 1:  | Loss:     1.9033 | Validation Accuracy: 0.342000\n",
      "Epoch  1, CIFAR-10 Batch 2:  | Loss:     1.6153 | Validation Accuracy: 0.397600\n",
      "Epoch  1, CIFAR-10 Batch 3:  | Loss:     1.1302 | Validation Accuracy: 0.472600\n",
      "Epoch  1, CIFAR-10 Batch 4:  | Loss:     1.3430 | Validation Accuracy: 0.471000\n",
      "Epoch  1, CIFAR-10 Batch 5:  | Loss:     1.3839 | Validation Accuracy: 0.504600\n",
      "Epoch  2, CIFAR-10 Batch 1:  | Loss:     1.5525 | Validation Accuracy: 0.476800\n",
      "Epoch  2, CIFAR-10 Batch 2:  | Loss:     1.0868 | Validation Accuracy: 0.507000\n",
      "Epoch  2, CIFAR-10 Batch 3:  | Loss:     0.6473 | Validation Accuracy: 0.555600\n",
      "Epoch  2, CIFAR-10 Batch 4:  | Loss:     1.0306 | Validation Accuracy: 0.520400\n",
      "Epoch  2, CIFAR-10 Batch 5:  | Loss:     1.0240 | Validation Accuracy: 0.544800\n",
      "Epoch  3, CIFAR-10 Batch 1:  | Loss:     1.2651 | Validation Accuracy: 0.549600\n",
      "Epoch  3, CIFAR-10 Batch 2:  | Loss:     0.8523 | Validation Accuracy: 0.556200\n",
      "Epoch  3, CIFAR-10 Batch 3:  | Loss:     0.5003 | Validation Accuracy: 0.559000\n",
      "Epoch  3, CIFAR-10 Batch 4:  | Loss:     0.7918 | Validation Accuracy: 0.561200\n",
      "Epoch  3, CIFAR-10 Batch 5:  | Loss:     0.8679 | Validation Accuracy: 0.565400\n",
      "Epoch  4, CIFAR-10 Batch 1:  | Loss:     1.0922 | Validation Accuracy: 0.582800\n",
      "Epoch  4, CIFAR-10 Batch 2:  | Loss:     0.6857 | Validation Accuracy: 0.580400\n",
      "Epoch  4, CIFAR-10 Batch 3:  | Loss:     0.4113 | Validation Accuracy: 0.580800\n",
      "Epoch  4, CIFAR-10 Batch 4:  | Loss:     0.6545 | Validation Accuracy: 0.592200\n",
      "Epoch  4, CIFAR-10 Batch 5:  | Loss:     0.7380 | Validation Accuracy: 0.583600\n",
      "Epoch  5, CIFAR-10 Batch 1:  | Loss:     0.9912 | Validation Accuracy: 0.609400\n",
      "Epoch  5, CIFAR-10 Batch 2:  | Loss:     0.6334 | Validation Accuracy: 0.562800\n",
      "Epoch  5, CIFAR-10 Batch 3:  | Loss:     0.3761 | Validation Accuracy: 0.595400\n",
      "Epoch  5, CIFAR-10 Batch 4:  | Loss:     0.6081 | Validation Accuracy: 0.589800\n",
      "Epoch  5, CIFAR-10 Batch 5:  | Loss:     0.6434 | Validation Accuracy: 0.613200\n",
      "Epoch  6, CIFAR-10 Batch 1:  | Loss:     0.9100 | Validation Accuracy: 0.619400\n",
      "Epoch  6, CIFAR-10 Batch 2:  | Loss:     0.5484 | Validation Accuracy: 0.576400\n",
      "Epoch  6, CIFAR-10 Batch 3:  | Loss:     0.3374 | Validation Accuracy: 0.612000\n",
      "Epoch  6, CIFAR-10 Batch 4:  | Loss:     0.5116 | Validation Accuracy: 0.619200\n",
      "Epoch  6, CIFAR-10 Batch 5:  | Loss:     0.5986 | Validation Accuracy: 0.624400\n",
      "Epoch  7, CIFAR-10 Batch 1:  | Loss:     0.7869 | Validation Accuracy: 0.620600\n",
      "Epoch  7, CIFAR-10 Batch 2:  | Loss:     0.4546 | Validation Accuracy: 0.592000\n",
      "Epoch  7, CIFAR-10 Batch 3:  | Loss:     0.3212 | Validation Accuracy: 0.617600\n",
      "Epoch  7, CIFAR-10 Batch 4:  | Loss:     0.4637 | Validation Accuracy: 0.620600\n",
      "Epoch  7, CIFAR-10 Batch 5:  | Loss:     0.5593 | Validation Accuracy: 0.611400\n",
      "Epoch  8, CIFAR-10 Batch 1:  | Loss:     0.7263 | Validation Accuracy: 0.636400\n",
      "Epoch  8, CIFAR-10 Batch 2:  | Loss:     0.3878 | Validation Accuracy: 0.615400\n",
      "Epoch  8, CIFAR-10 Batch 3:  | Loss:     0.2882 | Validation Accuracy: 0.625800\n",
      "Epoch  8, CIFAR-10 Batch 4:  | Loss:     0.4207 | Validation Accuracy: 0.620600\n",
      "Epoch  8, CIFAR-10 Batch 5:  | Loss:     0.4884 | Validation Accuracy: 0.621000\n",
      "Epoch  9, CIFAR-10 Batch 1:  | Loss:     0.6568 | Validation Accuracy: 0.629200\n",
      "Epoch  9, CIFAR-10 Batch 2:  | Loss:     0.3652 | Validation Accuracy: 0.626600\n",
      "Epoch  9, CIFAR-10 Batch 3:  | Loss:     0.2536 | Validation Accuracy: 0.630000\n",
      "Epoch  9, CIFAR-10 Batch 4:  | Loss:     0.3668 | Validation Accuracy: 0.625600\n",
      "Epoch  9, CIFAR-10 Batch 5:  | Loss:     0.4106 | Validation Accuracy: 0.622800\n",
      "Epoch 10, CIFAR-10 Batch 1:  | Loss:     0.5903 | Validation Accuracy: 0.622800\n",
      "Epoch 10, CIFAR-10 Batch 2:  | Loss:     0.3366 | Validation Accuracy: 0.624200\n",
      "Epoch 10, CIFAR-10 Batch 3:  | Loss:     0.2273 | Validation Accuracy: 0.625400\n",
      "Epoch 10, CIFAR-10 Batch 4:  | Loss:     0.3546 | Validation Accuracy: 0.626600\n",
      "Epoch 10, CIFAR-10 Batch 5:  | Loss:     0.3736 | Validation Accuracy: 0.626400\n",
      "Epoch 11, CIFAR-10 Batch 1:  | Loss:     0.5315 | Validation Accuracy: 0.629600\n",
      "Epoch 11, CIFAR-10 Batch 2:  | Loss:     0.2929 | Validation Accuracy: 0.615200\n",
      "Epoch 11, CIFAR-10 Batch 3:  | Loss:     0.2195 | Validation Accuracy: 0.623400\n",
      "Epoch 11, CIFAR-10 Batch 4:  | Loss:     0.3121 | Validation Accuracy: 0.623400\n",
      "Epoch 11, CIFAR-10 Batch 5:  | Loss:     0.3331 | Validation Accuracy: 0.618000\n",
      "Epoch 12, CIFAR-10 Batch 1:  | Loss:     0.4945 | Validation Accuracy: 0.631200\n",
      "Epoch 12, CIFAR-10 Batch 2:  | Loss:     0.2731 | Validation Accuracy: 0.601000\n",
      "Epoch 12, CIFAR-10 Batch 3:  | Loss:     0.2085 | Validation Accuracy: 0.618800\n",
      "Epoch 12, CIFAR-10 Batch 4:  | Loss:     0.2961 | Validation Accuracy: 0.627600\n",
      "Epoch 12, CIFAR-10 Batch 5:  | Loss:     0.3242 | Validation Accuracy: 0.623000\n",
      "Epoch 13, CIFAR-10 Batch 1:  | Loss:     0.4409 | Validation Accuracy: 0.622600\n",
      "Epoch 13, CIFAR-10 Batch 2:  | Loss:     0.2223 | Validation Accuracy: 0.597600\n",
      "Epoch 13, CIFAR-10 Batch 3:  | Loss:     0.1972 | Validation Accuracy: 0.617000\n",
      "Epoch 13, CIFAR-10 Batch 4:  | Loss:     0.2923 | Validation Accuracy: 0.623200\n",
      "Epoch 13, CIFAR-10 Batch 5:  | Loss:     0.3446 | Validation Accuracy: 0.605600\n",
      "Epoch 14, CIFAR-10 Batch 1:  | Loss:     0.4054 | Validation Accuracy: 0.608800\n",
      "Epoch 14, CIFAR-10 Batch 2:  | Loss:     0.2111 | Validation Accuracy: 0.612000\n",
      "Epoch 14, CIFAR-10 Batch 3:  | Loss:     0.2068 | Validation Accuracy: 0.607000\n",
      "Epoch 14, CIFAR-10 Batch 4:  | Loss:     0.2995 | Validation Accuracy: 0.626000\n",
      "Epoch 14, CIFAR-10 Batch 5:  | Loss:     0.3207 | Validation Accuracy: 0.598000\n",
      "Epoch 15, CIFAR-10 Batch 1:  | Loss:     0.3582 | Validation Accuracy: 0.615400\n",
      "Epoch 15, CIFAR-10 Batch 2:  | Loss:     0.2582 | Validation Accuracy: 0.601200\n",
      "Epoch 15, CIFAR-10 Batch 3:  | Loss:     0.1627 | Validation Accuracy: 0.613200\n",
      "Epoch 15, CIFAR-10 Batch 4:  | Loss:     0.2934 | Validation Accuracy: 0.625600\n",
      "Epoch 15, CIFAR-10 Batch 5:  | Loss:     0.2462 | Validation Accuracy: 0.616800\n",
      "Epoch 16, CIFAR-10 Batch 1:  | Loss:     0.2737 | Validation Accuracy: 0.620400\n",
      "Epoch 16, CIFAR-10 Batch 2:  | Loss:     0.2019 | Validation Accuracy: 0.612400\n",
      "Epoch 16, CIFAR-10 Batch 3:  | Loss:     0.1494 | Validation Accuracy: 0.615000\n",
      "Epoch 16, CIFAR-10 Batch 4:  | Loss:     0.2428 | Validation Accuracy: 0.629200\n",
      "Epoch 16, CIFAR-10 Batch 5:  | Loss:     0.2298 | Validation Accuracy: 0.620400\n",
      "Epoch 17, CIFAR-10 Batch 1:  | Loss:     0.2458 | Validation Accuracy: 0.616000\n",
      "Epoch 17, CIFAR-10 Batch 2:  | Loss:     0.1771 | Validation Accuracy: 0.617200\n",
      "Epoch 17, CIFAR-10 Batch 3:  | Loss:     0.1261 | Validation Accuracy: 0.615600\n",
      "Epoch 17, CIFAR-10 Batch 4:  | Loss:     0.2425 | Validation Accuracy: 0.624400\n",
      "Epoch 17, CIFAR-10 Batch 5:  | Loss:     0.2489 | Validation Accuracy: 0.600000\n",
      "Epoch 18, CIFAR-10 Batch 1:  | Loss:     0.2565 | Validation Accuracy: 0.602600\n",
      "Epoch 18, CIFAR-10 Batch 2:  | Loss:     0.2047 | Validation Accuracy: 0.603800\n",
      "Epoch 18, CIFAR-10 Batch 3:  | Loss:     0.1243 | Validation Accuracy: 0.610600\n",
      "Epoch 18, CIFAR-10 Batch 4:  | Loss:     0.2074 | Validation Accuracy: 0.619000\n",
      "Epoch 18, CIFAR-10 Batch 5:  | Loss:     0.1982 | Validation Accuracy: 0.605200\n",
      "Epoch 19, CIFAR-10 Batch 1:  | Loss:     0.2263 | Validation Accuracy: 0.599200\n",
      "Epoch 19, CIFAR-10 Batch 2:  | Loss:     0.1991 | Validation Accuracy: 0.583000\n",
      "Epoch 19, CIFAR-10 Batch 3:  | Loss:     0.1329 | Validation Accuracy: 0.607200\n",
      "Epoch 19, CIFAR-10 Batch 4:  | Loss:     0.2214 | Validation Accuracy: 0.605400\n",
      "Epoch 19, CIFAR-10 Batch 5:  | Loss:     0.1782 | Validation Accuracy: 0.617600\n",
      "Epoch 20, CIFAR-10 Batch 1:  | Loss:     0.1838 | Validation Accuracy: 0.614400\n",
      "Epoch 20, CIFAR-10 Batch 2:  | Loss:     0.1812 | Validation Accuracy: 0.581200\n",
      "Epoch 20, CIFAR-10 Batch 3:  | Loss:     0.1131 | Validation Accuracy: 0.593800\n",
      "Epoch 20, CIFAR-10 Batch 4:  | Loss:     0.1777 | Validation Accuracy: 0.613200\n",
      "Epoch 20, CIFAR-10 Batch 5:  | Loss:     0.1590 | Validation Accuracy: 0.602400\n",
      "Epoch 21, CIFAR-10 Batch 1:  | Loss:     0.1855 | Validation Accuracy: 0.615200\n",
      "Epoch 21, CIFAR-10 Batch 2:  | Loss:     0.1471 | Validation Accuracy: 0.577800\n",
      "Epoch 21, CIFAR-10 Batch 3:  | Loss:     0.1084 | Validation Accuracy: 0.586800\n",
      "Epoch 21, CIFAR-10 Batch 4:  | Loss:     0.1719 | Validation Accuracy: 0.605200\n",
      "Epoch 21, CIFAR-10 Batch 5:  | Loss:     0.1567 | Validation Accuracy: 0.584200\n",
      "Epoch 22, CIFAR-10 Batch 1:  | Loss:     0.1430 | Validation Accuracy: 0.609000\n",
      "Epoch 22, CIFAR-10 Batch 2:  | Loss:     0.1131 | Validation Accuracy: 0.588800\n",
      "Epoch 22, CIFAR-10 Batch 3:  | Loss:     0.0944 | Validation Accuracy: 0.588200\n",
      "Epoch 22, CIFAR-10 Batch 4:  | Loss:     0.1303 | Validation Accuracy: 0.603200\n",
      "Epoch 22, CIFAR-10 Batch 5:  | Loss:     0.1100 | Validation Accuracy: 0.585200\n",
      "Epoch 23, CIFAR-10 Batch 1:  | Loss:     0.1137 | Validation Accuracy: 0.606400\n",
      "Epoch 23, CIFAR-10 Batch 2:  | Loss:     0.0885 | Validation Accuracy: 0.599600\n",
      "Epoch 23, CIFAR-10 Batch 3:  | Loss:     0.0898 | Validation Accuracy: 0.596000\n",
      "Epoch 23, CIFAR-10 Batch 4:  | Loss:     0.1319 | Validation Accuracy: 0.599600\n",
      "Epoch 23, CIFAR-10 Batch 5:  | Loss:     0.0966 | Validation Accuracy: 0.578600\n",
      "Epoch 24, CIFAR-10 Batch 1:  | Loss:     0.1240 | Validation Accuracy: 0.602400\n",
      "Epoch 24, CIFAR-10 Batch 2:  | Loss:     0.0691 | Validation Accuracy: 0.606400\n",
      "Epoch 24, CIFAR-10 Batch 3:  | Loss:     0.0812 | Validation Accuracy: 0.597800\n",
      "Epoch 24, CIFAR-10 Batch 4:  | Loss:     0.1257 | Validation Accuracy: 0.598400\n",
      "Epoch 24, CIFAR-10 Batch 5:  | Loss:     0.0953 | Validation Accuracy: 0.578000\n",
      "Epoch 25, CIFAR-10 Batch 1:  | Loss:     0.1427 | Validation Accuracy: 0.593600\n",
      "Epoch 25, CIFAR-10 Batch 2:  | Loss:     0.0859 | Validation Accuracy: 0.615800\n",
      "Epoch 25, CIFAR-10 Batch 3:  | Loss:     0.1081 | Validation Accuracy: 0.584800\n",
      "Epoch 25, CIFAR-10 Batch 4:  | Loss:     0.1403 | Validation Accuracy: 0.584000\n",
      "Epoch 25, CIFAR-10 Batch 5:  | Loss:     0.1027 | Validation Accuracy: 0.597600\n",
      "Epoch 26, CIFAR-10 Batch 1:  | Loss:     0.1129 | Validation Accuracy: 0.595200\n",
      "Epoch 26, CIFAR-10 Batch 2:  | Loss:     0.0724 | Validation Accuracy: 0.612600\n",
      "Epoch 26, CIFAR-10 Batch 3:  | Loss:     0.1260 | Validation Accuracy: 0.579400\n",
      "Epoch 26, CIFAR-10 Batch 4:  | Loss:     0.1509 | Validation Accuracy: 0.593400\n",
      "Epoch 26, CIFAR-10 Batch 5:  | Loss:     0.0930 | Validation Accuracy: 0.598200\n",
      "Epoch 27, CIFAR-10 Batch 1:  | Loss:     0.0911 | Validation Accuracy: 0.593600\n",
      "Epoch 27, CIFAR-10 Batch 2:  | Loss:     0.0635 | Validation Accuracy: 0.610200\n",
      "Epoch 27, CIFAR-10 Batch 3:  | Loss:     0.0959 | Validation Accuracy: 0.575600\n",
      "Epoch 27, CIFAR-10 Batch 4:  | Loss:     0.2043 | Validation Accuracy: 0.596000\n",
      "Epoch 27, CIFAR-10 Batch 5:  | Loss:     0.0635 | Validation Accuracy: 0.600600\n",
      "Epoch 28, CIFAR-10 Batch 1:  | Loss:     0.1065 | Validation Accuracy: 0.591800\n",
      "Epoch 28, CIFAR-10 Batch 2:  | Loss:     0.0533 | Validation Accuracy: 0.598600\n",
      "Epoch 28, CIFAR-10 Batch 3:  | Loss:     0.0742 | Validation Accuracy: 0.583000\n",
      "Epoch 28, CIFAR-10 Batch 4:  | Loss:     0.1244 | Validation Accuracy: 0.606200\n",
      "Epoch 28, CIFAR-10 Batch 5:  | Loss:     0.0688 | Validation Accuracy: 0.605000\n",
      "Epoch 29, CIFAR-10 Batch 1:  | Loss:     0.0531 | Validation Accuracy: 0.605400\n",
      "Epoch 29, CIFAR-10 Batch 2:  | Loss:     0.0432 | Validation Accuracy: 0.598400\n",
      "Epoch 29, CIFAR-10 Batch 3:  | Loss:     0.0728 | Validation Accuracy: 0.585000\n",
      "Epoch 29, CIFAR-10 Batch 4:  | Loss:     0.1203 | Validation Accuracy: 0.602400\n",
      "Epoch 29, CIFAR-10 Batch 5:  | Loss:     0.0558 | Validation Accuracy: 0.608600\n",
      "Epoch 30, CIFAR-10 Batch 1:  | Loss:     0.0709 | Validation Accuracy: 0.594400\n",
      "Epoch 30, CIFAR-10 Batch 2:  | Loss:     0.0525 | Validation Accuracy: 0.584200\n",
      "Epoch 30, CIFAR-10 Batch 3:  | Loss:     0.0708 | Validation Accuracy: 0.574600\n",
      "Epoch 30, CIFAR-10 Batch 4:  | Loss:     0.0949 | Validation Accuracy: 0.605800\n",
      "Epoch 30, CIFAR-10 Batch 5:  | Loss:     0.0483 | Validation Accuracy: 0.598400\n",
      "Epoch 31, CIFAR-10 Batch 1:  | Loss:     0.0533 | Validation Accuracy: 0.585800\n",
      "Epoch 31, CIFAR-10 Batch 2:  | Loss:     0.0392 | Validation Accuracy: 0.601400\n",
      "Epoch 31, CIFAR-10 Batch 3:  | Loss:     0.0407 | Validation Accuracy: 0.578400\n",
      "Epoch 31, CIFAR-10 Batch 4:  | Loss:     0.0794 | Validation Accuracy: 0.600600\n",
      "Epoch 31, CIFAR-10 Batch 5:  | Loss:     0.0427 | Validation Accuracy: 0.591400\n",
      "Epoch 32, CIFAR-10 Batch 1:  | Loss:     0.0470 | Validation Accuracy: 0.583800\n",
      "Epoch 32, CIFAR-10 Batch 2:  | Loss:     0.0413 | Validation Accuracy: 0.600600\n",
      "Epoch 32, CIFAR-10 Batch 3:  | Loss:     0.0311 | Validation Accuracy: 0.585400\n",
      "Epoch 32, CIFAR-10 Batch 4:  | Loss:     0.0442 | Validation Accuracy: 0.605200\n",
      "Epoch 32, CIFAR-10 Batch 5:  | Loss:     0.0313 | Validation Accuracy: 0.607800\n",
      "Epoch 33, CIFAR-10 Batch 1:  | Loss:     0.0346 | Validation Accuracy: 0.595600\n",
      "Epoch 33, CIFAR-10 Batch 2:  | Loss:     0.0305 | Validation Accuracy: 0.597000\n",
      "Epoch 33, CIFAR-10 Batch 3:  | Loss:     0.0243 | Validation Accuracy: 0.592200\n",
      "Epoch 33, CIFAR-10 Batch 4:  | Loss:     0.0469 | Validation Accuracy: 0.607800\n",
      "Epoch 33, CIFAR-10 Batch 5:  | Loss:     0.0343 | Validation Accuracy: 0.600600\n",
      "Epoch 34, CIFAR-10 Batch 1:  | Loss:     0.0278 | Validation Accuracy: 0.596400\n",
      "Epoch 34, CIFAR-10 Batch 2:  | Loss:     0.0254 | Validation Accuracy: 0.598600\n",
      "Epoch 34, CIFAR-10 Batch 3:  | Loss:     0.0203 | Validation Accuracy: 0.598400\n",
      "Epoch 34, CIFAR-10 Batch 4:  | Loss:     0.0535 | Validation Accuracy: 0.604600\n",
      "Epoch 34, CIFAR-10 Batch 5:  | Loss:     0.0255 | Validation Accuracy: 0.607200\n",
      "Epoch 35, CIFAR-10 Batch 1:  | Loss:     0.0461 | Validation Accuracy: 0.576600\n",
      "Epoch 35, CIFAR-10 Batch 2:  | Loss:     0.1113 | Validation Accuracy: 0.574200\n",
      "Epoch 35, CIFAR-10 Batch 3:  | Loss:     0.0562 | Validation Accuracy: 0.592800\n",
      "Epoch 35, CIFAR-10 Batch 4:  | Loss:     0.0519 | Validation Accuracy: 0.599400\n",
      "Epoch 35, CIFAR-10 Batch 5:  | Loss:     0.0318 | Validation Accuracy: 0.590000\n",
      "Epoch 36, CIFAR-10 Batch 1:  | Loss:     0.0489 | Validation Accuracy: 0.588000\n",
      "Epoch 36, CIFAR-10 Batch 2:  | Loss:     0.0669 | Validation Accuracy: 0.563400\n",
      "Epoch 36, CIFAR-10 Batch 3:  | Loss:     0.0483 | Validation Accuracy: 0.595200\n",
      "Epoch 36, CIFAR-10 Batch 4:  | Loss:     0.0454 | Validation Accuracy: 0.591600\n",
      "Epoch 36, CIFAR-10 Batch 5:  | Loss:     0.0385 | Validation Accuracy: 0.588600\n",
      "Epoch 37, CIFAR-10 Batch 1:  | Loss:     0.0391 | Validation Accuracy: 0.584600\n",
      "Epoch 37, CIFAR-10 Batch 2:  | Loss:     0.0542 | Validation Accuracy: 0.588600\n",
      "Epoch 37, CIFAR-10 Batch 3:  | Loss:     0.0264 | Validation Accuracy: 0.606200\n",
      "Epoch 37, CIFAR-10 Batch 4:  | Loss:     0.0230 | Validation Accuracy: 0.596800\n",
      "Epoch 37, CIFAR-10 Batch 5:  | Loss:     0.0362 | Validation Accuracy: 0.600800\n",
      "Epoch 38, CIFAR-10 Batch 1:  | Loss:     0.0421 | Validation Accuracy: 0.580800\n",
      "Epoch 38, CIFAR-10 Batch 2:  | Loss:     0.0227 | Validation Accuracy: 0.597600\n",
      "Epoch 38, CIFAR-10 Batch 3:  | Loss:     0.0232 | Validation Accuracy: 0.609800\n",
      "Epoch 38, CIFAR-10 Batch 4:  | Loss:     0.0437 | Validation Accuracy: 0.602200\n",
      "Epoch 38, CIFAR-10 Batch 5:  | Loss:     0.0266 | Validation Accuracy: 0.601200\n",
      "Epoch 39, CIFAR-10 Batch 1:  | Loss:     0.0281 | Validation Accuracy: 0.594000\n",
      "Epoch 39, CIFAR-10 Batch 2:  | Loss:     0.0209 | Validation Accuracy: 0.592400\n",
      "Epoch 39, CIFAR-10 Batch 3:  | Loss:     0.0194 | Validation Accuracy: 0.611000\n",
      "Epoch 39, CIFAR-10 Batch 4:  | Loss:     0.0183 | Validation Accuracy: 0.591800\n",
      "Epoch 39, CIFAR-10 Batch 5:  | Loss:     0.0174 | Validation Accuracy: 0.599800\n",
      "Epoch 40, CIFAR-10 Batch 1:  | Loss:     0.0158 | Validation Accuracy: 0.600600\n",
      "Epoch 40, CIFAR-10 Batch 2:  | Loss:     0.0187 | Validation Accuracy: 0.584400\n",
      "Epoch 40, CIFAR-10 Batch 3:  | Loss:     0.0170 | Validation Accuracy: 0.608000\n",
      "Epoch 40, CIFAR-10 Batch 4:  | Loss:     0.0345 | Validation Accuracy: 0.573600\n",
      "Epoch 40, CIFAR-10 Batch 5:  | Loss:     0.0132 | Validation Accuracy: 0.609400\n",
      "Epoch 41, CIFAR-10 Batch 1:  | Loss:     0.0211 | Validation Accuracy: 0.591200\n",
      "Epoch 41, CIFAR-10 Batch 2:  | Loss:     0.0111 | Validation Accuracy: 0.594200\n",
      "Epoch 41, CIFAR-10 Batch 3:  | Loss:     0.0146 | Validation Accuracy: 0.613200\n",
      "Epoch 41, CIFAR-10 Batch 4:  | Loss:     0.0170 | Validation Accuracy: 0.575400\n",
      "Epoch 41, CIFAR-10 Batch 5:  | Loss:     0.0135 | Validation Accuracy: 0.601400\n",
      "Epoch 42, CIFAR-10 Batch 1:  | Loss:     0.0241 | Validation Accuracy: 0.588600\n",
      "Epoch 42, CIFAR-10 Batch 2:  | Loss:     0.0148 | Validation Accuracy: 0.578200\n",
      "Epoch 42, CIFAR-10 Batch 3:  | Loss:     0.0100 | Validation Accuracy: 0.601200\n",
      "Epoch 42, CIFAR-10 Batch 4:  | Loss:     0.0166 | Validation Accuracy: 0.587000\n",
      "Epoch 42, CIFAR-10 Batch 5:  | Loss:     0.0166 | Validation Accuracy: 0.595000\n",
      "Epoch 43, CIFAR-10 Batch 1:  | Loss:     0.0109 | Validation Accuracy: 0.599600\n",
      "Epoch 43, CIFAR-10 Batch 2:  | Loss:     0.0095 | Validation Accuracy: 0.585200\n",
      "Epoch 43, CIFAR-10 Batch 3:  | Loss:     0.0102 | Validation Accuracy: 0.607000\n",
      "Epoch 43, CIFAR-10 Batch 4:  | Loss:     0.0153 | Validation Accuracy: 0.587600\n",
      "Epoch 43, CIFAR-10 Batch 5:  | Loss:     0.0282 | Validation Accuracy: 0.594000\n",
      "Epoch 44, CIFAR-10 Batch 1:  | Loss:     0.0145 | Validation Accuracy: 0.589200\n",
      "Epoch 44, CIFAR-10 Batch 2:  | Loss:     0.0092 | Validation Accuracy: 0.578600\n",
      "Epoch 44, CIFAR-10 Batch 3:  | Loss:     0.0125 | Validation Accuracy: 0.607400\n",
      "Epoch 44, CIFAR-10 Batch 4:  | Loss:     0.0158 | Validation Accuracy: 0.589000\n",
      "Epoch 44, CIFAR-10 Batch 5:  | Loss:     0.0141 | Validation Accuracy: 0.591600\n",
      "Epoch 45, CIFAR-10 Batch 1:  | Loss:     0.0127 | Validation Accuracy: 0.592800\n",
      "Epoch 45, CIFAR-10 Batch 2:  | Loss:     0.0211 | Validation Accuracy: 0.592400\n",
      "Epoch 45, CIFAR-10 Batch 3:  | Loss:     0.0077 | Validation Accuracy: 0.605400\n",
      "Epoch 45, CIFAR-10 Batch 4:  | Loss:     0.0206 | Validation Accuracy: 0.591600\n",
      "Epoch 45, CIFAR-10 Batch 5:  | Loss:     0.0224 | Validation Accuracy: 0.599800\n",
      "Epoch 46, CIFAR-10 Batch 1:  | Loss:     0.0098 | Validation Accuracy: 0.590600\n",
      "Epoch 46, CIFAR-10 Batch 2:  | Loss:     0.0156 | Validation Accuracy: 0.587000\n",
      "Epoch 46, CIFAR-10 Batch 3:  | Loss:     0.0124 | Validation Accuracy: 0.604200\n",
      "Epoch 46, CIFAR-10 Batch 4:  | Loss:     0.0077 | Validation Accuracy: 0.598400\n",
      "Epoch 46, CIFAR-10 Batch 5:  | Loss:     0.0192 | Validation Accuracy: 0.588800\n",
      "Epoch 47, CIFAR-10 Batch 1:  | Loss:     0.0077 | Validation Accuracy: 0.593400\n",
      "Epoch 47, CIFAR-10 Batch 2:  | Loss:     0.0175 | Validation Accuracy: 0.582600\n",
      "Epoch 47, CIFAR-10 Batch 3:  | Loss:     0.0105 | Validation Accuracy: 0.607200\n",
      "Epoch 47, CIFAR-10 Batch 4:  | Loss:     0.0100 | Validation Accuracy: 0.603200\n",
      "Epoch 47, CIFAR-10 Batch 5:  | Loss:     0.0121 | Validation Accuracy: 0.597000\n",
      "Epoch 48, CIFAR-10 Batch 1:  | Loss:     0.0099 | Validation Accuracy: 0.596400\n",
      "Epoch 48, CIFAR-10 Batch 2:  | Loss:     0.0082 | Validation Accuracy: 0.588000\n",
      "Epoch 48, CIFAR-10 Batch 3:  | Loss:     0.0104 | Validation Accuracy: 0.601800\n",
      "Epoch 48, CIFAR-10 Batch 4:  | Loss:     0.0127 | Validation Accuracy: 0.599600\n",
      "Epoch 48, CIFAR-10 Batch 5:  | Loss:     0.0098 | Validation Accuracy: 0.596200\n",
      "Epoch 49, CIFAR-10 Batch 1:  | Loss:     0.0088 | Validation Accuracy: 0.598600\n",
      "Epoch 49, CIFAR-10 Batch 2:  | Loss:     0.0071 | Validation Accuracy: 0.586600\n",
      "Epoch 49, CIFAR-10 Batch 3:  | Loss:     0.0041 | Validation Accuracy: 0.607800\n",
      "Epoch 49, CIFAR-10 Batch 4:  | Loss:     0.0127 | Validation Accuracy: 0.600400\n",
      "Epoch 49, CIFAR-10 Batch 5:  | Loss:     0.0158 | Validation Accuracy: 0.590000\n",
      "Epoch 50, CIFAR-10 Batch 1:  | Loss:     0.0040 | Validation Accuracy: 0.603000\n",
      "Epoch 50, CIFAR-10 Batch 2:  | Loss:     0.0092 | Validation Accuracy: 0.591200\n",
      "Epoch 50, CIFAR-10 Batch 3:  | Loss:     0.0095 | Validation Accuracy: 0.607800\n",
      "Epoch 50, CIFAR-10 Batch 4:  | Loss:     0.0058 | Validation Accuracy: 0.593400\n",
      "Epoch 50, CIFAR-10 Batch 5:  | Loss:     0.0354 | Validation Accuracy: 0.593400\n"
     ]
    }
   ],
   "source": [
    "\"\"\"\n",
    "DON'T MODIFY ANYTHING IN THIS CELL\n",
    "\"\"\"\n",
    "save_model_path = './image_classification'\n",
    "\n",
    "print('Training...')\n",
    "with tf.Session() as sess:\n",
    "    # Initializing the variables\n",
    "    sess.run(tf.global_variables_initializer())\n",
    "    \n",
    "    # Training cycle\n",
    "    for epoch in range(epochs):\n",
    "        # Loop over all batches\n",
    "        n_batches = 5\n",
    "        for batch_i in range(1, n_batches + 1):\n",
    "            for batch_features, batch_labels in helper.load_preprocess_training_batch(batch_i, batch_size):\n",
    "                train_neural_network(sess, optimizer, keep_probability, batch_features, batch_labels)\n",
    "            print('Epoch {:>2}, CIFAR-10 Batch {}:  '.format(epoch + 1, batch_i), end='')\n",
    "            print_stats(sess, batch_features, batch_labels, cost, accuracy)\n",
    "            \n",
    "    # Save Model\n",
    "    saver = tf.train.Saver()\n",
    "    save_path = saver.save(sess, save_model_path)"
   ]
  },
  {
   "cell_type": "markdown",
   "metadata": {
    "deletable": true,
    "editable": true
   },
   "source": [
    "# Checkpoint\n",
    "The model has been saved to disk.\n",
    "## Test Model\n",
    "Test your model against the test dataset.  This will be your final accuracy. You should have an accuracy greater than 50%. If you don't, keep tweaking the model architecture and parameters."
   ]
  },
  {
   "cell_type": "code",
   "execution_count": 86,
   "metadata": {
    "collapsed": false,
    "deletable": true,
    "editable": true
   },
   "outputs": [
    {
     "name": "stdout",
     "output_type": "stream",
     "text": [
      "Testing Accuracy: 0.5962223101265823\n",
      "\n"
     ]
    },
    {
     "data": {
      "image/png": "[encoded data removed]",
      "text/plain": [
       "<matplotlib.figure.Figure at 0x7fcef010df60>"
      ]
     },
     "metadata": {
      "image/png": {
       "height": 319,
       "width": 355
      }
     },
     "output_type": "display_data"
    }
   ],
   "source": [
    "\"\"\"\n",
    "DON'T MODIFY ANYTHING IN THIS CELL\n",
    "\"\"\"\n",
    "%matplotlib inline\n",
    "%config InlineBackend.figure_format = 'retina'\n",
    "\n",
    "import tensorflow as tf\n",
    "import pickle\n",
    "import helper\n",
    "import random\n",
    "\n",
    "# Set batch size if not already set\n",
    "try:\n",
    "    if batch_size:\n",
    "        pass\n",
    "except NameError:\n",
    "    batch_size = 64\n",
    "\n",
    "save_model_path = './image_classification'\n",
    "n_samples = 4\n",
    "top_n_predictions = 3\n",
    "\n",
    "def test_model():\n",
    "    \"\"\"\n",
    "    Test the saved model against the test dataset\n",
    "    \"\"\"\n",
    "\n",
    "    test_features, test_labels = pickle.load(open('preprocess_training.p', mode='rb'))\n",
    "    loaded_graph = tf.Graph()\n",
    "\n",
    "    with tf.Session(graph=loaded_graph) as sess:\n",
    "        # Load model\n",
    "        loader = tf.train.import_meta_graph(save_model_path + '.meta')\n",
    "        loader.restore(sess, save_model_path)\n",
    "\n",
    "        # Get Tensors from loaded model\n",
    "        loaded_x = loaded_graph.get_tensor_by_name('x:0')\n",
    "        loaded_y = loaded_graph.get_tensor_by_name('y:0')\n",
    "        loaded_keep_prob = loaded_graph.get_tensor_by_name('keep_prob:0')\n",
    "        loaded_logits = loaded_graph.get_tensor_by_name('logits:0')\n",
    "        loaded_acc = loaded_graph.get_tensor_by_name('accuracy:0')\n",
    "        \n",
    "        # Get accuracy in batches for memory limitations\n",
    "        test_batch_acc_total = 0\n",
    "        test_batch_count = 0\n",
    "        \n",
    "        for train_feature_batch, train_label_batch in helper.batch_features_labels(test_features, test_labels, batch_size):\n",
    "            test_batch_acc_total += sess.run(\n",
    "                loaded_acc,\n",
    "                feed_dict={loaded_x: train_feature_batch, loaded_y: train_label_batch, loaded_keep_prob: 1.0})\n",
    "            test_batch_count += 1\n",
    "\n",
    "        print('Testing Accuracy: {}\\n'.format(test_batch_acc_total/test_batch_count))\n",
    "\n",
    "        # Print Random Samples\n",
    "        random_test_features, random_test_labels = tuple(zip(*random.sample(list(zip(test_features, test_labels)), n_samples)))\n",
    "        random_test_predictions = sess.run(\n",
    "            tf.nn.top_k(tf.nn.softmax(loaded_logits), top_n_predictions),\n",
    "            feed_dict={loaded_x: random_test_features, loaded_y: random_test_labels, loaded_keep_prob: 1.0})\n",
    "        helper.display_image_predictions(random_test_features, random_test_labels, random_test_predictions)\n",
    "\n",
    "\n",
    "test_model()"
   ]
  },
  {
   "cell_type": "markdown",
   "metadata": {
    "deletable": true,
    "editable": true
   },
   "source": [
    "## Why 50-70% Accuracy?\n",
    "You might be wondering why you can't get an accuracy any higher. First things first, 50% isn't bad for a simple CNN.  Pure guessing would get you 10% accuracy. However, you might notice people are getting scores [well above 70%](http://rodrigob.github.io/are_we_there_yet/build/classification_datasets_results.html#43494641522d3130).  That's because we haven't taught you all there is to know about neural networks. We still need to cover a few more techniques.\n",
    "## Submitting This Project\n",
    "When submitting this project, make sure to run all the cells before saving the notebook.  Save the notebook file as \"dlnd_image_classification.ipynb\" and save it as a HTML file under \"File\" -> \"Download as\".  Include the \"helper.py\" and \"problem_unittests.py\" files in your submission."
   ]
  }
 ],
 "metadata": {
  "kernelspec": {
   "display_name": "Python 3",
   "language": "python",
   "name": "python3"
  },
  "language_info": {
   "codemirror_mode": {
    "name": "ipython",
    "version": 3
   },
   "file_extension": ".py",
   "mimetype": "text/x-python",
   "name": "python",
   "nbconvert_exporter": "python",
   "pygments_lexer": "ipython3",
   "version": "3.5.2"
  },
  "widgets": {
   "state": {},
   "version": "1.1.2"
  }
 },
 "nbformat": 4,
 "nbformat_minor": 0
}
